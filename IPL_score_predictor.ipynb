{
  "nbformat": 4,
  "nbformat_minor": 0,
  "metadata": {
    "colab": {
      "provenance": [],
      "authorship_tag": "ABX9TyOWJgQQ1f2fgt+NR9A6WKB5",
      "include_colab_link": true
    },
    "kernelspec": {
      "name": "python3",
      "display_name": "Python 3"
    },
    "language_info": {
      "name": "python"
    }
  },
  "cells": [
    {
      "cell_type": "markdown",
      "metadata": {
        "id": "view-in-github",
        "colab_type": "text"
      },
      "source": [
        "<a href=\"https://colab.research.google.com/github/mayukhsarkar20/Cricket-score-display/blob/main/IPL_score_predictor.ipynb\" target=\"_parent\"><img src=\"https://colab.research.google.com/assets/colab-badge.svg\" alt=\"Open In Colab\"/></a>"
      ]
    },
    {
      "cell_type": "code",
      "execution_count": null,
      "metadata": {
        "id": "3CwDnnQeu48_"
      },
      "outputs": [],
      "source": [
        "import pandas as pd\n",
        "import numpy as np\n",
        "import matplotlib.pyplot as plt\n",
        "import seaborn as sns\n",
        "from sklearn import preprocessing\n",
        "import keras\n",
        "import tensorflow as tf"
      ]
    },
    {
      "cell_type": "code",
      "source": [
        "from google.colab import files\n",
        "uploaded = files.upload()\n"
      ],
      "metadata": {
        "id": "dd-4ttM7xrh8"
      },
      "execution_count": null,
      "outputs": []
    },
    {
      "cell_type": "code",
      "source": [
        "import pandas as pd\n",
        "ipl = pd.read_csv('ipl_data.csv')\n",
        "ipl.head()"
      ],
      "metadata": {
        "id": "GYKrytY6yNjS"
      },
      "execution_count": null,
      "outputs": []
    },
    {
      "cell_type": "code",
      "source": [
        "data = ipl.copy()\n",
        "matches_per_venue = data[['mid','venue']].drop_duplicates()\n",
        "matches_count = matches_per_venue['venue'].value_counts()\n",
        "plt.figure(figsize=(12,6))\n",
        "sns.barplot(x=matches_count.values,y=matches_count.index,palette = \"rainbow\")\n",
        "plt.title('Number of matches per venue')\n",
        "plt.xlabel('Number of matches')\n",
        "plt.ylabel('venue')\n",
        "plt.show()"
      ],
      "metadata": {
        "id": "4Usn4JOuyW7O"
      },
      "execution_count": null,
      "outputs": []
    },
    {
      "cell_type": "code",
      "source": [
        "runs_by_batsman = data.groupby('batsman')['runs'].max().sort_values(ascending=False).head(10)\n",
        "plt.figure(figsize=(12,6))\n",
        "sns.barplot(x=runs_by_batsman.values,y=runs_by_batsman.index,palette = \"pastel\")\n",
        "plt.title('Runs scored by top 10 batsman')\n",
        "plt.xlabel('Total Runs')\n",
        "plt.ylabel('Batsman')\n",
        "plt.show()"
      ],
      "metadata": {
        "id": "rK7r-ADvOF_w"
      },
      "execution_count": null,
      "outputs": []
    },
    {
      "cell_type": "code",
      "source": [
        "wickets_by_Bowler = data.groupby('bowler')['wickets'].max().sort_values(ascending=False).head(10)\n",
        "plt.figure(figsize=(12,6))\n",
        "sns.barplot(x=wickets_by_Bowler.values,y=wickets_by_Bowler.index,palette = \"muted\")\n",
        "plt.title('Wickets taken by top 10 bowler')\n",
        "plt.xlabel('Total Wickets')\n",
        "plt.ylabel('Bowler')\n",
        "plt.show()\n"
      ],
      "metadata": {
        "id": "p_OfkhCOw_yI"
      },
      "execution_count": null,
      "outputs": []
    },
    {
      "cell_type": "code",
      "source": [
        "from sklearn.preprocessing import LabelEncoder\n",
        "cat_cols = ['bat_team', 'bowl_team', 'venue', 'batsman', 'bowler']\n",
        "data_encoded = data.copy()\n",
        "label_encoders = {}\n",
        "for col in cat_cols:\n",
        "  le = LabelEncoder()\n",
        "  data_encoded[col] = le.fit_transform(data_encoded[col])\n",
        "  label_encoders[col] = le"
      ],
      "metadata": {
        "id": "uuIgP226x6uK"
      },
      "execution_count": null,
      "outputs": []
    },
    {
      "cell_type": "code",
      "source": [
        "data_corr = data_encoded.drop(columns = [\"date\", \"mid\"],axis = 0.5)\n",
        "sns.heatmap(data_corr.corr(),annot=True)\n",
        "plt.show()"
      ],
      "metadata": {
        "id": "E1CqOCQlyxOJ"
      },
      "execution_count": null,
      "outputs": []
    },
    {
      "cell_type": "code",
      "source": [
        "feature_cols = ['bat_team', 'bowl_team', 'venue', 'batsman', 'bowler', 'runs', 'wickets', 'overs', 'striker']\n",
        "X = data_encoded[feature_cols]\n",
        "y = data_encoded['total']\n",
        "from sklearn.model_selection import train_test_split\n",
        "X_train, X_test, y_train, y_test = train_test_split(X, y, test_size=0.3, random_state=42)"
      ],
      "metadata": {
        "id": "Uyr1ASQV19PV"
      },
      "execution_count": null,
      "outputs": []
    },
    {
      "cell_type": "code",
      "source": [
        "from sklearn.preprocessing import MinMaxScaler\n",
        "scaler = MinMaxScaler()\n",
        "X_train_scaled = scaler.fit_transform(X_train)\n",
        "X_test_scaled = scaler.transform(X_test)"
      ],
      "metadata": {
        "id": "WJXw4tkT3XHv"
      },
      "execution_count": null,
      "outputs": []
    },
    {
      "cell_type": "code",
      "source": [
        "model = keras.Sequential([\n",
        "    keras.layers.Input( shape=\n",
        "                       (X_train_scaled.shape[1],)),\n",
        "    keras.layers.Dense(512, activation='relu'),\n",
        "    keras.layers.Dense(216, activation='relu'),\n",
        "    keras.layers.Dense(1, activation='linear')\n",
        "])\n",
        "huber_loss = tf.keras.losses.Huber(delta=0.5)\n",
        "#i can adjust the \"delta\" parameter as needed\n",
        "model.compile(optimizer='adam', loss=huber_loss)"
      ],
      "metadata": {
        "id": "jYcCg1XB3kb7"
      },
      "execution_count": null,
      "outputs": []
    },
    {
      "cell_type": "code",
      "source": [
        "model.fit(X_train_scaled, y_train, epochs = 10, batch_size = 64, validation_data=(X_test_scaled, y_test))"
      ],
      "metadata": {
        "id": "v7H6hrgB4IQa"
      },
      "execution_count": null,
      "outputs": []
    },
    {
      "cell_type": "code",
      "source": [
        "model_losses = pd.DataFrame(model.history.history)\n",
        "model_losses.plot()"
      ],
      "metadata": {
        "id": "XpkIH_7G5fZK"
      },
      "execution_count": null,
      "outputs": []
    },
    {
      "cell_type": "code",
      "source": [
        "predictions = model.predict(X_test_scaled)\n",
        "from sklearn.metrics import mean_absolute_error,mean_squared_error\n",
        "mean_absolute_error(y_test,predictions)"
      ],
      "metadata": {
        "id": "Rj1RHiCm6vy9"
      },
      "execution_count": null,
      "outputs": []
    },
    {
      "cell_type": "code",
      "source": [
        "import numpy as np\n",
        "import ipywidgets as widgets\n",
        "from IPython.display import display, clear_output\n",
        "import warnings\n",
        "warnings.filterwarnings(\"ignore\")\n",
        "\n",
        "venue = widgets.Dropdown(options=list(label_encoders['venue'].classes_), description='Select Venue:')\n",
        "venue.style = {'description_width': 'initial'}\n",
        "\n",
        "batting_team = widgets.Dropdown(options=list(label_encoders['bat_team'].classes_), description='Select Batting Team:')\n",
        "batting_team.style = {'description_width': 'initial'}\n",
        "\n",
        "bowling_team = widgets.Dropdown(options=list(label_encoders['bowl_team'].classes_), description='Select Bowling Team:')\n",
        "bowling_team.style = {'description_width': 'initial'}\n",
        "\n",
        "striker = widgets.Dropdown(options=list(label_encoders['batsman'].classes_), description='Select Striker:')\n",
        "striker.style = {'description_width': 'initial'}\n",
        "\n",
        "bowler = widgets.Dropdown(options=list(label_encoders['bowler'].classes_), description='Select Bowler:')\n",
        "bowler.style = {'description_width': 'initial'}\n",
        "\n",
        "runs = widgets.IntText(value=0, description='Runs:', style={'description_width': 'initial'})\n",
        "wickets = widgets.IntText(value=0, description='Wickets:', style={'description_width': 'initial'})\n",
        "overs = widgets.FloatText(value=0.0, description='Overs:', style={'description_width': 'initial'})\n",
        "striker_ind = widgets.IntText(value=0, description='Striker:', style={'description_width': 'initial'})\n",
        "predict_button = widgets.Button(description=\"Predict Score\")\n",
        "\n",
        "output = widgets.Output()\n",
        "\n",
        "def predict_score(b):\n",
        "    with output:\n",
        "        clear_output()\n",
        "\n",
        "        encoded_venue = label_encoders['venue'].transform([venue.value])[0]\n",
        "        encoded_batting_team = label_encoders['bat_team'].transform([batting_team.value])[0]\n",
        "        encoded_bowling_team = label_encoders['bowl_team'].transform([bowling_team.value])[0]\n",
        "        encoded_striker = label_encoders['batsman'].transform([striker.value])[0]\n",
        "        encoded_bowler = label_encoders['bowler'].transform([bowler.value])[0]\n",
        "\n",
        "        input_features = [\n",
        "            encoded_batting_team,\n",
        "            encoded_bowling_team,\n",
        "            encoded_venue,\n",
        "            runs.value,\n",
        "            wickets.value,\n",
        "            overs.value,\n",
        "            striker_ind.value,\n",
        "            encoded_striker,\n",
        "            encoded_bowler\n",
        "        ]\n",
        "\n",
        "        input_array = np.array(input_features).reshape(1, -1)\n",
        "        input_array = scaler.transform(input_array)\n",
        "        predicted_score = model.predict(input_array)\n",
        "\n",
        "\n",
        "        print(f\"Predicted Total Runs: {int(predicted_score[0])}\")\n",
        "\n",
        "predict_button.on_click(predict_score)\n",
        "\n",
        "display(venue, batting_team, bowling_team, striker, bowler,\n",
        "        runs, wickets, overs,\n",
        "        striker_ind,\n",
        "        predict_button, output)"
      ],
      "metadata": {
        "id": "QqFDuPcJ70wq"
      },
      "execution_count": null,
      "outputs": []
    }
  ]
}